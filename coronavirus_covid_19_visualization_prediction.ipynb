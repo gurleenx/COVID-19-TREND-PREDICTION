{
  "nbformat": 4,
  "nbformat_minor": 0,
  "metadata": {
    "kernelspec": {
      "display_name": "Python 3",
      "language": "python",
      "name": "python3"
    },
    "language_info": {
      "codemirror_mode": {
        "name": "ipython",
        "version": 3
      },
      "file_extension": ".py",
      "mimetype": "text/x-python",
      "name": "python",
      "nbconvert_exporter": "python",
      "pygments_lexer": "ipython3",
      "version": "3.7.6"
    },
    "colab": {
      "name": "coronavirus-covid-19-visualization-prediction.ipynb",
      "provenance": [],
      "include_colab_link": true
    }
  },
  "cells": [
    {
      "cell_type": "markdown",
      "metadata": {
        "id": "view-in-github",
        "colab_type": "text"
      },
      "source": [
        "<a href=\"https://colab.research.google.com/github/gurleenx/COVID-19-TREND-PREDICTION/blob/main/coronavirus_covid_19_visualization_prediction.ipynb\" target=\"_parent\"><img src=\"https://colab.research.google.com/assets/colab-badge.svg\" alt=\"Open In Colab\"/></a>"
      ]
    },
    {
      "cell_type": "markdown",
      "metadata": {
        "id": "a-dhPxDDuSuG"
      },
      "source": [
        "# Coronavirus (COVID-19) Visualization & Prediction \n",
        "\n",
        "<font face = \"Verdana\" size =\"3\">Coronavirus is a family of viruses that are named after their spiky crown. The novel coronavirus, also known as SARS-CoV-2, is a contagious respiratory virus that first reported in Wuhan, China. On 2/11/2020, the World Health Organization designated the name COVID-19 for the disease caused by the novel coronavirus. This notebook aims at exploring COVID-19 through data analysis and projections. \n",
        " \n",
        "   Coronavirus Case Data is provided by <a href='https://github.com/CSSEGISandData/COVID-19'>Johns Hopkins University</a>\n",
        "   <br>Mobility data is provided by <a href='https://www.apple.com/covid19/mobility'>Apple</a>\n",
        " \n",
        " "
      ]
    },
    {
      "cell_type": "code",
      "metadata": {
        "_cell_guid": "b1076dfc-b9ad-4769-8c92-a6c4dae69d19",
        "_kg_hide-input": true,
        "_kg_hide-output": true,
        "_uuid": "8f2839f25d086af736a60e9eeb907d3b93b6e0e5",
        "id": "KNvZ-1NduSuL"
      },
      "source": [
        "import numpy as np \n",
        "import matplotlib.pyplot as plt \n",
        "import matplotlib.colors as mcolors\n",
        "import pandas as pd \n",
        "import random\n",
        "import math\n",
        "import time\n",
        "from sklearn.linear_model import LinearRegression, BayesianRidge\n",
        "from sklearn.model_selection import RandomizedSearchCV, train_test_split\n",
        "from sklearn.preprocessing import PolynomialFeatures\n",
        "from sklearn.svm import SVR\n",
        "from sklearn.metrics import mean_squared_error, mean_absolute_error\n",
        "import datetime\n",
        "import operator \n",
        "plt.style.use('fivethirtyeight')\n",
        "%matplotlib inline\n",
        "import warnings\n",
        "warnings.filterwarnings(\"ignore\")"
      ],
      "execution_count": 1,
      "outputs": []
    },
    {
      "cell_type": "markdown",
      "metadata": {
        "id": "fcyRkaxAuSuN"
      },
      "source": [
        "Import the data (make sure you update this on a daily basis)"
      ]
    },
    {
      "cell_type": "code",
      "metadata": {
        "_cell_guid": "",
        "_kg_hide-input": true,
        "_kg_hide-output": true,
        "_uuid": "",
        "colab": {
          "base_uri": "https://localhost:8080/",
          "height": 337
        },
        "id": "0ZMQKK3huSuO",
        "outputId": "fb781256-5124-4676-ed50-0ea72fb19e8e"
      },
      "source": [
        "confirmed_df = pd.read_csv('https://raw.githubusercontent.com/CSSEGISandData/COVID-19/master/csse_covid_19_data/csse_covid_19_time_series/time_series_covid19_confirmed_global.csv')\n",
        "deaths_df = pd.read_csv('https://raw.githubusercontent.com/CSSEGISandData/COVID-19/master/csse_covid_19_data/csse_covid_19_time_series/time_series_covid19_deaths_global.csv')\n",
        "recoveries_df = pd.read_csv('https://raw.githubusercontent.com/CSSEGISandData/COVID-19/master/csse_covid_19_data/csse_covid_19_time_series/time_series_covid19_recovered_global.csv')\n",
        "latest_data = pd.read_csv('https://raw.githubusercontent.com/CSSEGISandData/COVID-19/master/csse_covid_19_data/csse_covid_19_daily_reports/10-13-2020.csv')\n",
        "us_medical_data = pd.read_csv('https://raw.githubusercontent.com/CSSEGISandData/COVID-19/master/csse_covid_19_data/csse_covid_19_daily_reports_us/10-13-2020.csv')\n",
        "apple_mobility = pd.read_csv('https://covid19-static.cdn-apple.com/covid19-mobility-data/2018HotfixDev25/v3/en-us/applemobilitytrends-2020-10-12.csv')"
      ],
      "execution_count": 3,
      "outputs": [
        {
          "output_type": "error",
          "ename": "HTTPError",
          "evalue": "ignored",
          "traceback": [
            "\u001b[0;31m---------------------------------------------------------------------------\u001b[0m",
            "\u001b[0;31mHTTPError\u001b[0m                                 Traceback (most recent call last)",
            "\u001b[0;32m<ipython-input-3-0f9bc9d56f70>\u001b[0m in \u001b[0;36m<module>\u001b[0;34m()\u001b[0m\n\u001b[1;32m      4\u001b[0m \u001b[0mlatest_data\u001b[0m \u001b[0;34m=\u001b[0m \u001b[0mpd\u001b[0m\u001b[0;34m.\u001b[0m\u001b[0mread_csv\u001b[0m\u001b[0;34m(\u001b[0m\u001b[0;34m'https://raw.githubusercontent.com/CSSEGISandData/COVID-19/master/csse_covid_19_data/csse_covid_19_daily_reports/10-13-2020.csv'\u001b[0m\u001b[0;34m)\u001b[0m\u001b[0;34m\u001b[0m\u001b[0;34m\u001b[0m\u001b[0m\n\u001b[1;32m      5\u001b[0m \u001b[0mus_medical_data\u001b[0m \u001b[0;34m=\u001b[0m \u001b[0mpd\u001b[0m\u001b[0;34m.\u001b[0m\u001b[0mread_csv\u001b[0m\u001b[0;34m(\u001b[0m\u001b[0;34m'https://raw.githubusercontent.com/CSSEGISandData/COVID-19/master/csse_covid_19_data/csse_covid_19_daily_reports_us/10-13-2020.csv'\u001b[0m\u001b[0;34m)\u001b[0m\u001b[0;34m\u001b[0m\u001b[0;34m\u001b[0m\u001b[0m\n\u001b[0;32m----> 6\u001b[0;31m \u001b[0mapple_mobility\u001b[0m \u001b[0;34m=\u001b[0m \u001b[0mpd\u001b[0m\u001b[0;34m.\u001b[0m\u001b[0mread_csv\u001b[0m\u001b[0;34m(\u001b[0m\u001b[0;34m'https://covid19-static.cdn-apple.com/covid19-mobility-data/2018HotfixDev25/v3/en-us/applemobilitytrends-2020-10-12.csv'\u001b[0m\u001b[0;34m)\u001b[0m\u001b[0;34m\u001b[0m\u001b[0;34m\u001b[0m\u001b[0m\n\u001b[0m",
            "\u001b[0;32m/usr/local/lib/python3.7/dist-packages/pandas/io/parsers.py\u001b[0m in \u001b[0;36mread_csv\u001b[0;34m(filepath_or_buffer, sep, delimiter, header, names, index_col, usecols, squeeze, prefix, mangle_dupe_cols, dtype, engine, converters, true_values, false_values, skipinitialspace, skiprows, skipfooter, nrows, na_values, keep_default_na, na_filter, verbose, skip_blank_lines, parse_dates, infer_datetime_format, keep_date_col, date_parser, dayfirst, cache_dates, iterator, chunksize, compression, thousands, decimal, lineterminator, quotechar, quoting, doublequote, escapechar, comment, encoding, dialect, error_bad_lines, warn_bad_lines, delim_whitespace, low_memory, memory_map, float_precision)\u001b[0m\n\u001b[1;32m    686\u001b[0m     )\n\u001b[1;32m    687\u001b[0m \u001b[0;34m\u001b[0m\u001b[0m\n\u001b[0;32m--> 688\u001b[0;31m     \u001b[0;32mreturn\u001b[0m \u001b[0m_read\u001b[0m\u001b[0;34m(\u001b[0m\u001b[0mfilepath_or_buffer\u001b[0m\u001b[0;34m,\u001b[0m \u001b[0mkwds\u001b[0m\u001b[0;34m)\u001b[0m\u001b[0;34m\u001b[0m\u001b[0;34m\u001b[0m\u001b[0m\n\u001b[0m\u001b[1;32m    689\u001b[0m \u001b[0;34m\u001b[0m\u001b[0m\n\u001b[1;32m    690\u001b[0m \u001b[0;34m\u001b[0m\u001b[0m\n",
            "\u001b[0;32m/usr/local/lib/python3.7/dist-packages/pandas/io/parsers.py\u001b[0m in \u001b[0;36m_read\u001b[0;34m(filepath_or_buffer, kwds)\u001b[0m\n\u001b[1;32m    435\u001b[0m     \u001b[0;31m# See https://github.com/python/mypy/issues/1297\u001b[0m\u001b[0;34m\u001b[0m\u001b[0;34m\u001b[0m\u001b[0;34m\u001b[0m\u001b[0m\n\u001b[1;32m    436\u001b[0m     fp_or_buf, _, compression, should_close = get_filepath_or_buffer(\n\u001b[0;32m--> 437\u001b[0;31m         \u001b[0mfilepath_or_buffer\u001b[0m\u001b[0;34m,\u001b[0m \u001b[0mencoding\u001b[0m\u001b[0;34m,\u001b[0m \u001b[0mcompression\u001b[0m\u001b[0;34m\u001b[0m\u001b[0;34m\u001b[0m\u001b[0m\n\u001b[0m\u001b[1;32m    438\u001b[0m     )\n\u001b[1;32m    439\u001b[0m     \u001b[0mkwds\u001b[0m\u001b[0;34m[\u001b[0m\u001b[0;34m\"compression\"\u001b[0m\u001b[0;34m]\u001b[0m \u001b[0;34m=\u001b[0m \u001b[0mcompression\u001b[0m\u001b[0;34m\u001b[0m\u001b[0;34m\u001b[0m\u001b[0m\n",
            "\u001b[0;32m/usr/local/lib/python3.7/dist-packages/pandas/io/common.py\u001b[0m in \u001b[0;36mget_filepath_or_buffer\u001b[0;34m(filepath_or_buffer, encoding, compression, mode, storage_options)\u001b[0m\n\u001b[1;32m    181\u001b[0m     \u001b[0;32mif\u001b[0m \u001b[0misinstance\u001b[0m\u001b[0;34m(\u001b[0m\u001b[0mfilepath_or_buffer\u001b[0m\u001b[0;34m,\u001b[0m \u001b[0mstr\u001b[0m\u001b[0;34m)\u001b[0m \u001b[0;32mand\u001b[0m \u001b[0mis_url\u001b[0m\u001b[0;34m(\u001b[0m\u001b[0mfilepath_or_buffer\u001b[0m\u001b[0;34m)\u001b[0m\u001b[0;34m:\u001b[0m\u001b[0;34m\u001b[0m\u001b[0;34m\u001b[0m\u001b[0m\n\u001b[1;32m    182\u001b[0m         \u001b[0;31m# TODO: fsspec can also handle HTTP via requests, but leaving this unchanged\u001b[0m\u001b[0;34m\u001b[0m\u001b[0;34m\u001b[0m\u001b[0;34m\u001b[0m\u001b[0m\n\u001b[0;32m--> 183\u001b[0;31m         \u001b[0mreq\u001b[0m \u001b[0;34m=\u001b[0m \u001b[0murlopen\u001b[0m\u001b[0;34m(\u001b[0m\u001b[0mfilepath_or_buffer\u001b[0m\u001b[0;34m)\u001b[0m\u001b[0;34m\u001b[0m\u001b[0;34m\u001b[0m\u001b[0m\n\u001b[0m\u001b[1;32m    184\u001b[0m         \u001b[0mcontent_encoding\u001b[0m \u001b[0;34m=\u001b[0m \u001b[0mreq\u001b[0m\u001b[0;34m.\u001b[0m\u001b[0mheaders\u001b[0m\u001b[0;34m.\u001b[0m\u001b[0mget\u001b[0m\u001b[0;34m(\u001b[0m\u001b[0;34m\"Content-Encoding\"\u001b[0m\u001b[0;34m,\u001b[0m \u001b[0;32mNone\u001b[0m\u001b[0;34m)\u001b[0m\u001b[0;34m\u001b[0m\u001b[0;34m\u001b[0m\u001b[0m\n\u001b[1;32m    185\u001b[0m         \u001b[0;32mif\u001b[0m \u001b[0mcontent_encoding\u001b[0m \u001b[0;34m==\u001b[0m \u001b[0;34m\"gzip\"\u001b[0m\u001b[0;34m:\u001b[0m\u001b[0;34m\u001b[0m\u001b[0;34m\u001b[0m\u001b[0m\n",
            "\u001b[0;32m/usr/local/lib/python3.7/dist-packages/pandas/io/common.py\u001b[0m in \u001b[0;36murlopen\u001b[0;34m(*args, **kwargs)\u001b[0m\n\u001b[1;32m    135\u001b[0m     \u001b[0;32mimport\u001b[0m \u001b[0murllib\u001b[0m\u001b[0;34m.\u001b[0m\u001b[0mrequest\u001b[0m\u001b[0;34m\u001b[0m\u001b[0;34m\u001b[0m\u001b[0m\n\u001b[1;32m    136\u001b[0m \u001b[0;34m\u001b[0m\u001b[0m\n\u001b[0;32m--> 137\u001b[0;31m     \u001b[0;32mreturn\u001b[0m \u001b[0murllib\u001b[0m\u001b[0;34m.\u001b[0m\u001b[0mrequest\u001b[0m\u001b[0;34m.\u001b[0m\u001b[0murlopen\u001b[0m\u001b[0;34m(\u001b[0m\u001b[0;34m*\u001b[0m\u001b[0margs\u001b[0m\u001b[0;34m,\u001b[0m \u001b[0;34m**\u001b[0m\u001b[0mkwargs\u001b[0m\u001b[0;34m)\u001b[0m\u001b[0;34m\u001b[0m\u001b[0;34m\u001b[0m\u001b[0m\n\u001b[0m\u001b[1;32m    138\u001b[0m \u001b[0;34m\u001b[0m\u001b[0m\n\u001b[1;32m    139\u001b[0m \u001b[0;34m\u001b[0m\u001b[0m\n",
            "\u001b[0;32m/usr/lib/python3.7/urllib/request.py\u001b[0m in \u001b[0;36murlopen\u001b[0;34m(url, data, timeout, cafile, capath, cadefault, context)\u001b[0m\n\u001b[1;32m    220\u001b[0m     \u001b[0;32melse\u001b[0m\u001b[0;34m:\u001b[0m\u001b[0;34m\u001b[0m\u001b[0;34m\u001b[0m\u001b[0m\n\u001b[1;32m    221\u001b[0m         \u001b[0mopener\u001b[0m \u001b[0;34m=\u001b[0m \u001b[0m_opener\u001b[0m\u001b[0;34m\u001b[0m\u001b[0;34m\u001b[0m\u001b[0m\n\u001b[0;32m--> 222\u001b[0;31m     \u001b[0;32mreturn\u001b[0m \u001b[0mopener\u001b[0m\u001b[0;34m.\u001b[0m\u001b[0mopen\u001b[0m\u001b[0;34m(\u001b[0m\u001b[0murl\u001b[0m\u001b[0;34m,\u001b[0m \u001b[0mdata\u001b[0m\u001b[0;34m,\u001b[0m \u001b[0mtimeout\u001b[0m\u001b[0;34m)\u001b[0m\u001b[0;34m\u001b[0m\u001b[0;34m\u001b[0m\u001b[0m\n\u001b[0m\u001b[1;32m    223\u001b[0m \u001b[0;34m\u001b[0m\u001b[0m\n\u001b[1;32m    224\u001b[0m \u001b[0;32mdef\u001b[0m \u001b[0minstall_opener\u001b[0m\u001b[0;34m(\u001b[0m\u001b[0mopener\u001b[0m\u001b[0;34m)\u001b[0m\u001b[0;34m:\u001b[0m\u001b[0;34m\u001b[0m\u001b[0;34m\u001b[0m\u001b[0m\n",
            "\u001b[0;32m/usr/lib/python3.7/urllib/request.py\u001b[0m in \u001b[0;36mopen\u001b[0;34m(self, fullurl, data, timeout)\u001b[0m\n\u001b[1;32m    529\u001b[0m         \u001b[0;32mfor\u001b[0m \u001b[0mprocessor\u001b[0m \u001b[0;32min\u001b[0m \u001b[0mself\u001b[0m\u001b[0;34m.\u001b[0m\u001b[0mprocess_response\u001b[0m\u001b[0;34m.\u001b[0m\u001b[0mget\u001b[0m\u001b[0;34m(\u001b[0m\u001b[0mprotocol\u001b[0m\u001b[0;34m,\u001b[0m \u001b[0;34m[\u001b[0m\u001b[0;34m]\u001b[0m\u001b[0;34m)\u001b[0m\u001b[0;34m:\u001b[0m\u001b[0;34m\u001b[0m\u001b[0;34m\u001b[0m\u001b[0m\n\u001b[1;32m    530\u001b[0m             \u001b[0mmeth\u001b[0m \u001b[0;34m=\u001b[0m \u001b[0mgetattr\u001b[0m\u001b[0;34m(\u001b[0m\u001b[0mprocessor\u001b[0m\u001b[0;34m,\u001b[0m \u001b[0mmeth_name\u001b[0m\u001b[0;34m)\u001b[0m\u001b[0;34m\u001b[0m\u001b[0;34m\u001b[0m\u001b[0m\n\u001b[0;32m--> 531\u001b[0;31m             \u001b[0mresponse\u001b[0m \u001b[0;34m=\u001b[0m \u001b[0mmeth\u001b[0m\u001b[0;34m(\u001b[0m\u001b[0mreq\u001b[0m\u001b[0;34m,\u001b[0m \u001b[0mresponse\u001b[0m\u001b[0;34m)\u001b[0m\u001b[0;34m\u001b[0m\u001b[0;34m\u001b[0m\u001b[0m\n\u001b[0m\u001b[1;32m    532\u001b[0m \u001b[0;34m\u001b[0m\u001b[0m\n\u001b[1;32m    533\u001b[0m         \u001b[0;32mreturn\u001b[0m \u001b[0mresponse\u001b[0m\u001b[0;34m\u001b[0m\u001b[0;34m\u001b[0m\u001b[0m\n",
            "\u001b[0;32m/usr/lib/python3.7/urllib/request.py\u001b[0m in \u001b[0;36mhttp_response\u001b[0;34m(self, request, response)\u001b[0m\n\u001b[1;32m    639\u001b[0m         \u001b[0;32mif\u001b[0m \u001b[0;32mnot\u001b[0m \u001b[0;34m(\u001b[0m\u001b[0;36m200\u001b[0m \u001b[0;34m<=\u001b[0m \u001b[0mcode\u001b[0m \u001b[0;34m<\u001b[0m \u001b[0;36m300\u001b[0m\u001b[0;34m)\u001b[0m\u001b[0;34m:\u001b[0m\u001b[0;34m\u001b[0m\u001b[0;34m\u001b[0m\u001b[0m\n\u001b[1;32m    640\u001b[0m             response = self.parent.error(\n\u001b[0;32m--> 641\u001b[0;31m                 'http', request, response, code, msg, hdrs)\n\u001b[0m\u001b[1;32m    642\u001b[0m \u001b[0;34m\u001b[0m\u001b[0m\n\u001b[1;32m    643\u001b[0m         \u001b[0;32mreturn\u001b[0m \u001b[0mresponse\u001b[0m\u001b[0;34m\u001b[0m\u001b[0;34m\u001b[0m\u001b[0m\n",
            "\u001b[0;32m/usr/lib/python3.7/urllib/request.py\u001b[0m in \u001b[0;36merror\u001b[0;34m(self, proto, *args)\u001b[0m\n\u001b[1;32m    567\u001b[0m         \u001b[0;32mif\u001b[0m \u001b[0mhttp_err\u001b[0m\u001b[0;34m:\u001b[0m\u001b[0;34m\u001b[0m\u001b[0;34m\u001b[0m\u001b[0m\n\u001b[1;32m    568\u001b[0m             \u001b[0margs\u001b[0m \u001b[0;34m=\u001b[0m \u001b[0;34m(\u001b[0m\u001b[0mdict\u001b[0m\u001b[0;34m,\u001b[0m \u001b[0;34m'default'\u001b[0m\u001b[0;34m,\u001b[0m \u001b[0;34m'http_error_default'\u001b[0m\u001b[0;34m)\u001b[0m \u001b[0;34m+\u001b[0m \u001b[0morig_args\u001b[0m\u001b[0;34m\u001b[0m\u001b[0;34m\u001b[0m\u001b[0m\n\u001b[0;32m--> 569\u001b[0;31m             \u001b[0;32mreturn\u001b[0m \u001b[0mself\u001b[0m\u001b[0;34m.\u001b[0m\u001b[0m_call_chain\u001b[0m\u001b[0;34m(\u001b[0m\u001b[0;34m*\u001b[0m\u001b[0margs\u001b[0m\u001b[0;34m)\u001b[0m\u001b[0;34m\u001b[0m\u001b[0;34m\u001b[0m\u001b[0m\n\u001b[0m\u001b[1;32m    570\u001b[0m \u001b[0;34m\u001b[0m\u001b[0m\n\u001b[1;32m    571\u001b[0m \u001b[0;31m# XXX probably also want an abstract factory that knows when it makes\u001b[0m\u001b[0;34m\u001b[0m\u001b[0;34m\u001b[0m\u001b[0;34m\u001b[0m\u001b[0m\n",
            "\u001b[0;32m/usr/lib/python3.7/urllib/request.py\u001b[0m in \u001b[0;36m_call_chain\u001b[0;34m(self, chain, kind, meth_name, *args)\u001b[0m\n\u001b[1;32m    501\u001b[0m         \u001b[0;32mfor\u001b[0m \u001b[0mhandler\u001b[0m \u001b[0;32min\u001b[0m \u001b[0mhandlers\u001b[0m\u001b[0;34m:\u001b[0m\u001b[0;34m\u001b[0m\u001b[0;34m\u001b[0m\u001b[0m\n\u001b[1;32m    502\u001b[0m             \u001b[0mfunc\u001b[0m \u001b[0;34m=\u001b[0m \u001b[0mgetattr\u001b[0m\u001b[0;34m(\u001b[0m\u001b[0mhandler\u001b[0m\u001b[0;34m,\u001b[0m \u001b[0mmeth_name\u001b[0m\u001b[0;34m)\u001b[0m\u001b[0;34m\u001b[0m\u001b[0;34m\u001b[0m\u001b[0m\n\u001b[0;32m--> 503\u001b[0;31m             \u001b[0mresult\u001b[0m \u001b[0;34m=\u001b[0m \u001b[0mfunc\u001b[0m\u001b[0;34m(\u001b[0m\u001b[0;34m*\u001b[0m\u001b[0margs\u001b[0m\u001b[0;34m)\u001b[0m\u001b[0;34m\u001b[0m\u001b[0;34m\u001b[0m\u001b[0m\n\u001b[0m\u001b[1;32m    504\u001b[0m             \u001b[0;32mif\u001b[0m \u001b[0mresult\u001b[0m \u001b[0;32mis\u001b[0m \u001b[0;32mnot\u001b[0m \u001b[0;32mNone\u001b[0m\u001b[0;34m:\u001b[0m\u001b[0;34m\u001b[0m\u001b[0;34m\u001b[0m\u001b[0m\n\u001b[1;32m    505\u001b[0m                 \u001b[0;32mreturn\u001b[0m \u001b[0mresult\u001b[0m\u001b[0;34m\u001b[0m\u001b[0;34m\u001b[0m\u001b[0m\n",
            "\u001b[0;32m/usr/lib/python3.7/urllib/request.py\u001b[0m in \u001b[0;36mhttp_error_default\u001b[0;34m(self, req, fp, code, msg, hdrs)\u001b[0m\n\u001b[1;32m    647\u001b[0m \u001b[0;32mclass\u001b[0m \u001b[0mHTTPDefaultErrorHandler\u001b[0m\u001b[0;34m(\u001b[0m\u001b[0mBaseHandler\u001b[0m\u001b[0;34m)\u001b[0m\u001b[0;34m:\u001b[0m\u001b[0;34m\u001b[0m\u001b[0;34m\u001b[0m\u001b[0m\n\u001b[1;32m    648\u001b[0m     \u001b[0;32mdef\u001b[0m \u001b[0mhttp_error_default\u001b[0m\u001b[0;34m(\u001b[0m\u001b[0mself\u001b[0m\u001b[0;34m,\u001b[0m \u001b[0mreq\u001b[0m\u001b[0;34m,\u001b[0m \u001b[0mfp\u001b[0m\u001b[0;34m,\u001b[0m \u001b[0mcode\u001b[0m\u001b[0;34m,\u001b[0m \u001b[0mmsg\u001b[0m\u001b[0;34m,\u001b[0m \u001b[0mhdrs\u001b[0m\u001b[0;34m)\u001b[0m\u001b[0;34m:\u001b[0m\u001b[0;34m\u001b[0m\u001b[0;34m\u001b[0m\u001b[0m\n\u001b[0;32m--> 649\u001b[0;31m         \u001b[0;32mraise\u001b[0m \u001b[0mHTTPError\u001b[0m\u001b[0;34m(\u001b[0m\u001b[0mreq\u001b[0m\u001b[0;34m.\u001b[0m\u001b[0mfull_url\u001b[0m\u001b[0;34m,\u001b[0m \u001b[0mcode\u001b[0m\u001b[0;34m,\u001b[0m \u001b[0mmsg\u001b[0m\u001b[0;34m,\u001b[0m \u001b[0mhdrs\u001b[0m\u001b[0;34m,\u001b[0m \u001b[0mfp\u001b[0m\u001b[0;34m)\u001b[0m\u001b[0;34m\u001b[0m\u001b[0;34m\u001b[0m\u001b[0m\n\u001b[0m\u001b[1;32m    650\u001b[0m \u001b[0;34m\u001b[0m\u001b[0m\n\u001b[1;32m    651\u001b[0m \u001b[0;32mclass\u001b[0m \u001b[0mHTTPRedirectHandler\u001b[0m\u001b[0;34m(\u001b[0m\u001b[0mBaseHandler\u001b[0m\u001b[0;34m)\u001b[0m\u001b[0;34m:\u001b[0m\u001b[0;34m\u001b[0m\u001b[0;34m\u001b[0m\u001b[0m\n",
            "\u001b[0;31mHTTPError\u001b[0m: HTTP Error 404: Not Found"
          ]
        }
      ]
    },
    {
      "cell_type": "code",
      "metadata": {
        "_kg_hide-input": true,
        "_kg_hide-output": true,
        "id": "mlpFUwc-uSuP"
      },
      "source": [
        "latest_data.head()"
      ],
      "execution_count": null,
      "outputs": []
    },
    {
      "cell_type": "code",
      "metadata": {
        "_kg_hide-input": true,
        "_kg_hide-output": true,
        "id": "2kdaRbOMuSuQ"
      },
      "source": [
        "confirmed_df.head()"
      ],
      "execution_count": null,
      "outputs": []
    },
    {
      "cell_type": "code",
      "metadata": {
        "_kg_hide-input": true,
        "_kg_hide-output": true,
        "id": "6CudT9GBuSuR"
      },
      "source": [
        "us_medical_data.head()"
      ],
      "execution_count": null,
      "outputs": []
    },
    {
      "cell_type": "code",
      "metadata": {
        "_kg_hide-input": true,
        "_kg_hide-output": true,
        "id": "8BhsYZlquSuT"
      },
      "source": [
        "cols = confirmed_df.keys()"
      ],
      "execution_count": null,
      "outputs": []
    },
    {
      "cell_type": "markdown",
      "metadata": {
        "id": "CrZR3hoouSuV"
      },
      "source": [
        "\n",
        "Get all the dates for the outbreak"
      ]
    },
    {
      "cell_type": "code",
      "metadata": {
        "_kg_hide-input": true,
        "_kg_hide-output": true,
        "id": "oVi32la0uSuX"
      },
      "source": [
        "confirmed = confirmed_df.loc[:, cols[4]:cols[-1]]\n",
        "deaths = deaths_df.loc[:, cols[4]:cols[-1]]\n",
        "recoveries = recoveries_df.loc[:, cols[4]:cols[-1]]"
      ],
      "execution_count": null,
      "outputs": []
    },
    {
      "cell_type": "code",
      "metadata": {
        "_kg_hide-input": true,
        "_kg_hide-output": true,
        "id": "guTnADfauSuY"
      },
      "source": [
        "dates = confirmed.keys()\n",
        "world_cases = []\n",
        "total_deaths = [] \n",
        "mortality_rate = []\n",
        "recovery_rate = [] \n",
        "total_recovered = [] \n",
        "total_active = [] \n",
        "\n",
        "for i in dates:\n",
        "    confirmed_sum = confirmed[i].sum()\n",
        "    death_sum = deaths[i].sum()\n",
        "    recovered_sum = recoveries[i].sum()\n",
        "    \n",
        "    # confirmed, deaths, recovered, and active\n",
        "    world_cases.append(confirmed_sum)\n",
        "    total_deaths.append(death_sum)\n",
        "    total_recovered.append(recovered_sum)\n",
        "    total_active.append(confirmed_sum-death_sum-recovered_sum)\n",
        "    \n",
        "    # calculate rates\n",
        "    mortality_rate.append(death_sum/confirmed_sum)\n",
        "    recovery_rate.append(recovered_sum/confirmed_sum)"
      ],
      "execution_count": null,
      "outputs": []
    },
    {
      "cell_type": "markdown",
      "metadata": {
        "id": "GoQXqxMXuSuY"
      },
      "source": [
        "Getting daily increases and moving averages"
      ]
    },
    {
      "cell_type": "code",
      "metadata": {
        "_kg_hide-input": true,
        "_kg_hide-output": true,
        "id": "Sgg70c-auSuZ"
      },
      "source": [
        "def daily_increase(data):\n",
        "    d = [] \n",
        "    for i in range(len(data)):\n",
        "        if i == 0:\n",
        "            d.append(data[0])\n",
        "        else:\n",
        "            d.append(data[i]-data[i-1])\n",
        "    return d \n",
        "\n",
        "def moving_average(data, window_size):\n",
        "    moving_average = []\n",
        "    for i in range(len(data)):\n",
        "        if i + window_size < len(data):\n",
        "            moving_average.append(np.mean(data[i:i+window_size]))\n",
        "        else:\n",
        "            moving_average.append(np.mean(data[i:len(data)]))\n",
        "    return moving_average\n",
        "\n",
        "# window size\n",
        "window = 7\n",
        "\n",
        "# confirmed cases\n",
        "world_daily_increase = daily_increase(world_cases)\n",
        "world_confirmed_avg= moving_average(world_cases, window)\n",
        "world_daily_increase_avg = moving_average(world_daily_increase, window)\n",
        "\n",
        "# deaths\n",
        "world_daily_death = daily_increase(total_deaths)\n",
        "world_death_avg = moving_average(total_deaths, window)\n",
        "world_daily_death_avg = moving_average(world_daily_death, window)\n",
        "\n",
        "\n",
        "# recoveries\n",
        "world_daily_recovery = daily_increase(total_recovered)\n",
        "world_recovery_avg = moving_average(total_recovered, window)\n",
        "world_daily_recovery_avg = moving_average(world_daily_recovery, window)\n",
        "\n",
        "\n",
        "# active \n",
        "world_active_avg = moving_average(total_active, window)"
      ],
      "execution_count": null,
      "outputs": []
    },
    {
      "cell_type": "code",
      "metadata": {
        "_kg_hide-input": true,
        "_kg_hide-output": true,
        "id": "Fh1U4d9IuSua"
      },
      "source": [
        "days_since_1_22 = np.array([i for i in range(len(dates))]).reshape(-1, 1)\n",
        "world_cases = np.array(world_cases).reshape(-1, 1)\n",
        "total_deaths = np.array(total_deaths).reshape(-1, 1)\n",
        "total_recovered = np.array(total_recovered).reshape(-1, 1)"
      ],
      "execution_count": null,
      "outputs": []
    },
    {
      "cell_type": "markdown",
      "metadata": {
        "id": "cKzzFCzFuSua"
      },
      "source": [
        "Future forcasting"
      ]
    },
    {
      "cell_type": "code",
      "metadata": {
        "_kg_hide-input": true,
        "_kg_hide-output": true,
        "id": "JYIAsBSsuSub"
      },
      "source": [
        "days_in_future = 10\n",
        "future_forcast = np.array([i for i in range(len(dates)+days_in_future)]).reshape(-1, 1)\n",
        "adjusted_dates = future_forcast[:-10]"
      ],
      "execution_count": null,
      "outputs": []
    },
    {
      "cell_type": "markdown",
      "metadata": {
        "id": "gHQHL0jkuSub"
      },
      "source": [
        "Convert integer into datetime for better visualization"
      ]
    },
    {
      "cell_type": "code",
      "metadata": {
        "_kg_hide-input": true,
        "_kg_hide-output": true,
        "id": "66zorLkXuSub"
      },
      "source": [
        "start = '1/22/2020'\n",
        "start_date = datetime.datetime.strptime(start, '%m/%d/%Y')\n",
        "future_forcast_dates = []\n",
        "for i in range(len(future_forcast)):\n",
        "    future_forcast_dates.append((start_date + datetime.timedelta(days=i)).strftime('%m/%d/%Y'))"
      ],
      "execution_count": null,
      "outputs": []
    },
    {
      "cell_type": "code",
      "metadata": {
        "_kg_hide-input": true,
        "_kg_hide-output": true,
        "id": "LadhyMgZuSuc"
      },
      "source": [
        "# slightly modify the data to fit the model better (regression models cannot pick the pattern)\n",
        "X_train_confirmed, X_test_confirmed, y_train_confirmed, y_test_confirmed = train_test_split(days_since_1_22[50:], world_cases[50:], test_size=0.15, shuffle=False) "
      ],
      "execution_count": null,
      "outputs": []
    },
    {
      "cell_type": "markdown",
      "metadata": {
        "id": "7qBJKv_huSuc"
      },
      "source": [
        "Model for predicting # of confirmed cases. I am using support vector machine, bayesian ridge , and linear regression in this example. We will show the results in the later section. "
      ]
    },
    {
      "cell_type": "code",
      "metadata": {
        "_kg_hide-input": true,
        "_kg_hide-output": true,
        "id": "YS9y2fOKuSuc"
      },
      "source": [
        "# # use this to find the optimal parameters for SVR\n",
        "# c = [0.01, 0.1, 1]\n",
        "# gamma = [0.01, 0.1, 1]\n",
        "# epsilon = [0.01, 0.1, 1]\n",
        "# shrinking = [True, False]\n",
        "\n",
        "# svm_grid = {'C': c, 'gamma' : gamma, 'epsilon': epsilon, 'shrinking' : shrinking}\n",
        "\n",
        "# svm = SVR(kernel='poly', degree=3)\n",
        "# svm_search = RandomizedSearchCV(svm, svm_grid, scoring='neg_mean_squared_error', cv=3, return_train_score=True, n_jobs=-1, n_iter=30, verbose=1)\n",
        "# svm_search.fit(X_train_confirmed, y_train_confirmed)"
      ],
      "execution_count": null,
      "outputs": []
    },
    {
      "cell_type": "code",
      "metadata": {
        "_kg_hide-input": true,
        "_kg_hide-output": true,
        "id": "rhPe1XyIuSud"
      },
      "source": [
        "# svm_search.best_params_"
      ],
      "execution_count": null,
      "outputs": []
    },
    {
      "cell_type": "code",
      "metadata": {
        "_kg_hide-input": true,
        "_kg_hide-output": true,
        "id": "lODOlBwJuSud"
      },
      "source": [
        "# svm_confirmed = svm_search.best_estimator_\n",
        "svm_confirmed = SVR(shrinking=True, kernel='poly',gamma=0.01, epsilon=1,degree=3, C=0.1)\n",
        "svm_confirmed.fit(X_train_confirmed, y_train_confirmed)\n",
        "svm_pred = svm_confirmed.predict(future_forcast)"
      ],
      "execution_count": null,
      "outputs": []
    },
    {
      "cell_type": "code",
      "metadata": {
        "_kg_hide-input": true,
        "_kg_hide-output": true,
        "id": "khmKK4xiuSud"
      },
      "source": [
        "# check against testing data\n",
        "svm_test_pred = svm_confirmed.predict(X_test_confirmed)\n",
        "plt.plot(y_test_confirmed)\n",
        "plt.plot(svm_test_pred)\n",
        "plt.legend(['Test Data', 'SVM Predictions'])\n",
        "print('MAE:', mean_absolute_error(svm_test_pred, y_test_confirmed))\n",
        "print('MSE:',mean_squared_error(svm_test_pred, y_test_confirmed))"
      ],
      "execution_count": null,
      "outputs": []
    },
    {
      "cell_type": "code",
      "metadata": {
        "_kg_hide-input": true,
        "_kg_hide-output": true,
        "id": "TEp6aPV2uSue"
      },
      "source": [
        "# transform our data for polynomial regression\n",
        "poly = PolynomialFeatures(degree=4)\n",
        "poly_X_train_confirmed = poly.fit_transform(X_train_confirmed)\n",
        "poly_X_test_confirmed = poly.fit_transform(X_test_confirmed)\n",
        "poly_future_forcast = poly.fit_transform(future_forcast)\n",
        "\n",
        "bayesian_poly = PolynomialFeatures(degree=5)\n",
        "bayesian_poly_X_train_confirmed = bayesian_poly.fit_transform(X_train_confirmed)\n",
        "bayesian_poly_X_test_confirmed = bayesian_poly.fit_transform(X_test_confirmed)\n",
        "bayesian_poly_future_forcast = bayesian_poly.fit_transform(future_forcast)"
      ],
      "execution_count": null,
      "outputs": []
    },
    {
      "cell_type": "code",
      "metadata": {
        "_kg_hide-input": true,
        "_kg_hide-output": true,
        "id": "vT-RtFwDuSue"
      },
      "source": [
        "# polynomial regression\n",
        "linear_model = LinearRegression(normalize=True, fit_intercept=False)\n",
        "linear_model.fit(poly_X_train_confirmed, y_train_confirmed)\n",
        "test_linear_pred = linear_model.predict(poly_X_test_confirmed)\n",
        "linear_pred = linear_model.predict(poly_future_forcast)\n",
        "print('MAE:', mean_absolute_error(test_linear_pred, y_test_confirmed))\n",
        "print('MSE:',mean_squared_error(test_linear_pred, y_test_confirmed))"
      ],
      "execution_count": null,
      "outputs": []
    },
    {
      "cell_type": "code",
      "metadata": {
        "_kg_hide-input": true,
        "_kg_hide-output": true,
        "id": "2KXcKBVSuSue"
      },
      "source": [
        "print(linear_model.coef_)"
      ],
      "execution_count": null,
      "outputs": []
    },
    {
      "cell_type": "code",
      "metadata": {
        "_kg_hide-input": true,
        "_kg_hide-output": true,
        "id": "bK-ykOfWuSue"
      },
      "source": [
        "plt.plot(y_test_confirmed)\n",
        "plt.plot(test_linear_pred)\n",
        "plt.legend(['Test Data', 'Polynomial Regression Predictions'])"
      ],
      "execution_count": null,
      "outputs": []
    },
    {
      "cell_type": "code",
      "metadata": {
        "_kg_hide-input": true,
        "_kg_hide-output": true,
        "id": "5pFL-OL-uSuf"
      },
      "source": [
        "# bayesian ridge polynomial regression\n",
        "tol = [1e-6, 1e-5, 1e-4, 1e-3, 1e-2]\n",
        "alpha_1 = [1e-7, 1e-6, 1e-5, 1e-4, 1e-3]\n",
        "alpha_2 = [1e-7, 1e-6, 1e-5, 1e-4, 1e-3]\n",
        "lambda_1 = [1e-7, 1e-6, 1e-5, 1e-4, 1e-3]\n",
        "lambda_2 = [1e-7, 1e-6, 1e-5, 1e-4, 1e-3]\n",
        "normalize = [True, False]\n",
        "\n",
        "bayesian_grid = {'tol': tol, 'alpha_1': alpha_1, 'alpha_2' : alpha_2, 'lambda_1': lambda_1, 'lambda_2' : lambda_2, \n",
        "                 'normalize' : normalize}\n",
        "\n",
        "bayesian = BayesianRidge(fit_intercept=False)\n",
        "bayesian_search = RandomizedSearchCV(bayesian, bayesian_grid, scoring='neg_mean_squared_error', cv=3, return_train_score=True, n_jobs=-1, n_iter=40, verbose=1)\n",
        "bayesian_search.fit(bayesian_poly_X_train_confirmed, y_train_confirmed)"
      ],
      "execution_count": null,
      "outputs": []
    },
    {
      "cell_type": "code",
      "metadata": {
        "_kg_hide-input": true,
        "_kg_hide-output": true,
        "id": "RDC8C159uSuf"
      },
      "source": [
        "bayesian_search.best_params_"
      ],
      "execution_count": null,
      "outputs": []
    },
    {
      "cell_type": "code",
      "metadata": {
        "_kg_hide-input": true,
        "_kg_hide-output": true,
        "id": "LMTV2-s6uSug"
      },
      "source": [
        "bayesian_confirmed = bayesian_search.best_estimator_\n",
        "test_bayesian_pred = bayesian_confirmed.predict(bayesian_poly_X_test_confirmed)\n",
        "bayesian_pred = bayesian_confirmed.predict(bayesian_poly_future_forcast)\n",
        "print('MAE:', mean_absolute_error(test_bayesian_pred, y_test_confirmed))\n",
        "print('MSE:',mean_squared_error(test_bayesian_pred, y_test_confirmed))"
      ],
      "execution_count": null,
      "outputs": []
    },
    {
      "cell_type": "code",
      "metadata": {
        "_kg_hide-input": true,
        "_kg_hide-output": true,
        "id": "Pci1ydnkuSug"
      },
      "source": [
        "plt.plot(y_test_confirmed)\n",
        "plt.plot(test_bayesian_pred)\n",
        "plt.legend(['Test Data', 'Bayesian Ridge Polynomial Predictions'])"
      ],
      "execution_count": null,
      "outputs": []
    },
    {
      "cell_type": "markdown",
      "metadata": {
        "id": "9FB35Zg6uSuh"
      },
      "source": [
        "#  Graphing the number of confirmed cases, active cases, deaths, recoveries, mortality rate (CFR), and recovery rate\n",
        " <a id='world_wide_graphs'></a>"
      ]
    },
    {
      "cell_type": "code",
      "metadata": {
        "_kg_hide-input": true,
        "_kg_hide-output": false,
        "id": "_2u8YJ9ouSuh"
      },
      "source": [
        "adjusted_dates = adjusted_dates.reshape(1, -1)[0]\n",
        "plt.figure(figsize=(16, 10))\n",
        "plt.plot(adjusted_dates, world_cases)\n",
        "plt.plot(adjusted_dates, world_confirmed_avg, linestyle='dashed', color='orange')\n",
        "plt.title('# of Coronavirus Cases Over Time', size=30)\n",
        "plt.xlabel('Days Since 1/22/2020', size=30)\n",
        "plt.ylabel('# of Cases', size=30)\n",
        "plt.legend(['Worldwide Coronavirus Cases', 'Moving Average {} Days'.format(window)], prop={'size': 20})\n",
        "plt.xticks(size=20)\n",
        "plt.yticks(size=20)\n",
        "plt.show()\n",
        "\n",
        "plt.figure(figsize=(16, 10))\n",
        "plt.plot(adjusted_dates, total_deaths)\n",
        "plt.plot(adjusted_dates, world_death_avg, linestyle='dashed', color='orange')\n",
        "plt.title('# of Coronavirus Deaths Over Time', size=30)\n",
        "plt.xlabel('Days Since 1/22/2020', size=30)\n",
        "plt.ylabel('# of Cases', size=30)\n",
        "plt.legend(['Worldwide Coronavirus Deaths', 'Moving Average {} Days'.format(window)], prop={'size': 20})\n",
        "plt.xticks(size=20)\n",
        "plt.yticks(size=20)\n",
        "plt.show()\n",
        "\n",
        "plt.figure(figsize=(16, 10))\n",
        "plt.plot(adjusted_dates, total_recovered)\n",
        "plt.plot(adjusted_dates, world_recovery_avg, linestyle='dashed', color='orange')\n",
        "plt.title('# of Coronavirus Recoveries Over Time', size=30)\n",
        "plt.xlabel('Days Since 1/22/2020', size=30)\n",
        "plt.ylabel('# of Cases', size=30)\n",
        "plt.legend(['Worldwide Coronavirus Recoveries', 'Moving Average {} Days'.format(window)], prop={'size': 20})\n",
        "plt.xticks(size=20)\n",
        "plt.yticks(size=20)\n",
        "plt.show()\n",
        "\n",
        "plt.figure(figsize=(16, 10))\n",
        "plt.plot(adjusted_dates, total_active)\n",
        "plt.plot(adjusted_dates, world_active_avg, linestyle='dashed', color='orange')\n",
        "plt.title('# of Coronavirus Active Cases Over Time', size=30)\n",
        "plt.xlabel('Days Since 1/22/2020', size=30)\n",
        "plt.ylabel('# of Active Cases', size=30)\n",
        "plt.legend(['Worldwide Coronavirus Active Cases', 'Moving Average {} Days'.format(window)], prop={'size': 20})\n",
        "plt.xticks(size=20)\n",
        "plt.yticks(size=20)\n",
        "plt.show()"
      ],
      "execution_count": null,
      "outputs": []
    },
    {
      "cell_type": "code",
      "metadata": {
        "_kg_hide-input": true,
        "id": "aTR5CfY9uSuh"
      },
      "source": [
        "plt.figure(figsize=(16, 10))\n",
        "plt.bar(adjusted_dates, world_daily_increase)\n",
        "plt.plot(adjusted_dates, world_daily_increase_avg, color='orange', linestyle='dashed')\n",
        "plt.title('World Daily Increases in Confirmed Cases', size=30)\n",
        "plt.xlabel('Days Since 1/22/2020', size=30)\n",
        "plt.ylabel('# of Cases', size=30)\n",
        "plt.legend(['Moving Average {} Days'.format(window), 'World Daily Increase in COVID-19 Cases'], prop={'size': 20})\n",
        "plt.xticks(size=20)\n",
        "plt.yticks(size=20)\n",
        "plt.show()\n",
        "\n",
        "plt.figure(figsize=(16, 10))\n",
        "plt.bar(adjusted_dates, world_daily_death)\n",
        "plt.plot(adjusted_dates, world_daily_death_avg, color='orange', linestyle='dashed')\n",
        "plt.title('World Daily Increases in Confirmed Deaths', size=30)\n",
        "plt.xlabel('Days Since 1/22/2020', size=30)\n",
        "plt.ylabel('# of Cases', size=30)\n",
        "plt.legend(['Moving Average {} Days'.format(window), 'World Daily Increase in COVID-19 Deaths'], prop={'size': 20})\n",
        "plt.xticks(size=20)\n",
        "plt.yticks(size=20)\n",
        "plt.show()\n",
        "\n",
        "plt.figure(figsize=(16, 10))\n",
        "plt.bar(adjusted_dates, world_daily_recovery)\n",
        "plt.plot(adjusted_dates, world_daily_recovery_avg, color='orange', linestyle='dashed')\n",
        "plt.title('World Daily Increases in Confirmed Recoveries', size=30)\n",
        "plt.xlabel('Days Since 1/22/2020', size=30)\n",
        "plt.ylabel('# of Cases', size=30)\n",
        "plt.legend(['Moving Average {} Days'.format(window), 'World Daily Increase in COVID-19 Recoveries'], prop={'size': 20})\n",
        "plt.xticks(size=20)\n",
        "plt.yticks(size=20)\n",
        "plt.show()"
      ],
      "execution_count": null,
      "outputs": []
    },
    {
      "cell_type": "code",
      "metadata": {
        "_kg_hide-input": true,
        "scrolled": false,
        "id": "TOV9IHAVuSui"
      },
      "source": [
        "plt.figure(figsize=(16, 10))\n",
        "plt.plot(adjusted_dates, np.log10(world_cases))\n",
        "plt.title('Log of # of Coronavirus Cases Over Time', size=30)\n",
        "plt.xlabel('Days Since 1/22/2020', size=30)\n",
        "plt.ylabel('# of Cases', size=30)\n",
        "plt.xticks(size=20)\n",
        "plt.yticks(size=20)\n",
        "plt.show()\n",
        "\n",
        "plt.figure(figsize=(16, 10))\n",
        "plt.plot(adjusted_dates, np.log10(total_deaths))\n",
        "plt.title('Log of # of Coronavirus Deaths Over Time', size=30)\n",
        "plt.xlabel('Days Since 1/22/2020', size=30)\n",
        "plt.ylabel('# of Cases', size=30)\n",
        "plt.xticks(size=20)\n",
        "plt.yticks(size=20)\n",
        "plt.show()\n",
        "\n",
        "plt.figure(figsize=(16, 10))\n",
        "plt.plot(adjusted_dates, np.log10(total_recovered))\n",
        "plt.title('Log of # of Coronavirus Recoveries Over Time', size=30)\n",
        "plt.xlabel('Days Since 1/22/2020', size=30)\n",
        "plt.ylabel('# of Cases', size=30)\n",
        "plt.xticks(size=20)\n",
        "plt.yticks(size=20)\n",
        "plt.show()"
      ],
      "execution_count": null,
      "outputs": []
    },
    {
      "cell_type": "code",
      "metadata": {
        "_kg_hide-input": true,
        "_kg_hide-output": true,
        "id": "W0Qk_f1quSui"
      },
      "source": [
        "def country_plot(x, y1, y2, y3, y4, country):\n",
        "    # window is set as 14 in in the beginning of the notebook \n",
        "    confirmed_avg = moving_average(y1, window)\n",
        "    confirmed_increase_avg = moving_average(y2, window)\n",
        "    death_increase_avg = moving_average(y3, window)\n",
        "    recovery_increase_avg = moving_average(y4, window)\n",
        "    \n",
        "    plt.figure(figsize=(16, 10))\n",
        "    plt.plot(x, y1)\n",
        "    plt.plot(x, confirmed_avg, color='red', linestyle='dashed')\n",
        "    plt.legend(['{} Confirmed Cases'.format(country), 'Moving Average {} Days'.format(window)], prop={'size': 20})\n",
        "    plt.title('{} Confirmed Cases'.format(country), size=30)\n",
        "    plt.xlabel('Days Since 1/22/2020', size=30)\n",
        "    plt.ylabel('# of Cases', size=30)\n",
        "    plt.xticks(size=20)\n",
        "    plt.yticks(size=20)\n",
        "    plt.show()\n",
        "\n",
        "    plt.figure(figsize=(16, 10))\n",
        "    plt.bar(x, y2)\n",
        "    plt.plot(x, confirmed_increase_avg, color='red', linestyle='dashed')\n",
        "    plt.legend(['Moving Average {} Days'.format(window), '{} Daily Increase in Confirmed Cases'.format(country)], prop={'size': 20})\n",
        "    plt.title('{} Daily Increases in Confirmed Cases'.format(country), size=30)\n",
        "    plt.xlabel('Days Since 1/22/2020', size=30)\n",
        "    plt.ylabel('# of Cases', size=30)\n",
        "    plt.xticks(size=20)\n",
        "    plt.yticks(size=20)\n",
        "    plt.show()\n",
        "\n",
        "    plt.figure(figsize=(16, 10))\n",
        "    plt.bar(x, y3)\n",
        "    plt.plot(x, death_increase_avg, color='red', linestyle='dashed')\n",
        "    plt.legend(['Moving Average {} Days'.format(window), '{} Daily Increase in Confirmed Deaths'.format(country)], prop={'size': 20})\n",
        "    plt.title('{} Daily Increases in Deaths'.format(country), size=30)\n",
        "    plt.xlabel('Days Since 1/22/2020', size=30)\n",
        "    plt.ylabel('# of Cases', size=30)\n",
        "    plt.xticks(size=20)\n",
        "    plt.yticks(size=20)\n",
        "    plt.show()\n",
        "\n",
        "    plt.figure(figsize=(16, 10))\n",
        "    plt.bar(x, y4)\n",
        "    plt.plot(x, recovery_increase_avg, color='red', linestyle='dashed')\n",
        "    plt.legend(['Moving Average {} Days'.format(window), '{} Daily Increase in Confirmed Recoveries'.format(country)], prop={'size': 20})\n",
        "    plt.title('{} Daily Increases in Recoveries'.format(country), size=30)\n",
        "    plt.xlabel('Days Since 1/22/2020', size=30)\n",
        "    plt.ylabel('# of Cases', size=30)\n",
        "    plt.xticks(size=20)\n",
        "    plt.yticks(size=20)\n",
        "    plt.show()\n",
        "      \n",
        "# helper function for getting country's cases, deaths, and recoveries        \n",
        "def get_country_info(country_name):\n",
        "    country_cases = []\n",
        "    country_deaths = []\n",
        "    country_recoveries = []  \n",
        "    \n",
        "    for i in dates:\n",
        "        country_cases.append(confirmed_df[confirmed_df['Country/Region']==country_name][i].sum())\n",
        "        country_deaths.append(deaths_df[deaths_df['Country/Region']==country_name][i].sum())\n",
        "        country_recoveries.append(recoveries_df[recoveries_df['Country/Region']==country_name][i].sum())\n",
        "    return (country_cases, country_deaths, country_recoveries)\n",
        "    \n",
        "    \n",
        "def country_visualizations(country_name):\n",
        "    country_info = get_country_info(country_name)\n",
        "    country_cases = country_info[0]\n",
        "    country_deaths = country_info[1]\n",
        "    country_recoveries = country_info[2]\n",
        "    \n",
        "    country_daily_increase = daily_increase(country_cases)\n",
        "    country_daily_death = daily_increase(country_deaths)\n",
        "    country_daily_recovery = daily_increase(country_recoveries)\n",
        "    \n",
        "    country_plot(adjusted_dates, country_cases, country_daily_increase, country_daily_death, country_daily_recovery, country_name)\n",
        "    "
      ],
      "execution_count": null,
      "outputs": []
    },
    {
      "cell_type": "markdown",
      "metadata": {
        "id": "uSdG5gQsuSuj"
      },
      "source": [
        "# Country Specific Graphs\n",
        "<a id='country_graphs'></a>"
      ]
    },
    {
      "cell_type": "code",
      "metadata": {
        "_kg_hide-input": true,
        "scrolled": false,
        "id": "jxaWMDx5uSuj"
      },
      "source": [
        "countries = ['US', 'Russia', 'India', 'Brazil', 'South Africa', 'China', 'Italy',\n",
        "             'Germany', 'Spain', 'France', 'United Kingdom', 'Peru', 'Mexico', 'Colombia', 'Saudi Arabia', 'Iran', 'Bangladesh',\n",
        "            'Pakistan', 'Turkey', 'Philippines', 'Iraq', 'Indonesia', 'Israel', 'Ukraine', 'Ecuador', 'Bolivia', 'Netherlands'] \n",
        "\n",
        "for country in countries:\n",
        "    country_visualizations(country)"
      ],
      "execution_count": null,
      "outputs": []
    },
    {
      "cell_type": "code",
      "metadata": {
        "_kg_hide-input": true,
        "id": "VZIqsHa-uSuj"
      },
      "source": [
        "# Country Comparison\n",
        "# removed redundant code\n",
        "\n",
        "compare_countries = ['US', 'Brazil', 'India', 'Russia', 'South Africa'] \n",
        "graph_name = ['Coronavirus Confirmed Cases', 'Coronavirus Confirmed Deaths', 'Coronavirus Confirmed Recoveries']\n",
        "\n",
        "for num in range(3):\n",
        "    plt.figure(figsize=(16, 10))\n",
        "    for country in compare_countries:\n",
        "        plt.plot(get_country_info(country)[num])\n",
        "    plt.legend(compare_countries, prop={'size': 20})\n",
        "    plt.xlabel('Days since 3/1', size=30)\n",
        "    plt.ylabel('# of Cases', size=30)\n",
        "    plt.title(graph_name[num], size=30)\n",
        "    plt.xticks(size=20)\n",
        "    plt.yticks(size=20)\n",
        "    plt.show()"
      ],
      "execution_count": null,
      "outputs": []
    },
    {
      "cell_type": "code",
      "metadata": {
        "_kg_hide-input": true,
        "_kg_hide-output": true,
        "id": "3-7RoZMLuSuj"
      },
      "source": [
        "def plot_predictions(x, y, pred, algo_name, color):\n",
        "    plt.figure(figsize=(16, 10))\n",
        "    plt.plot(x, y)\n",
        "    plt.plot(future_forcast, pred, linestyle='dashed', color=color)\n",
        "    plt.title('Worldwide Coronavirus Cases Over Time', size=30)\n",
        "    plt.xlabel('Days Since 1/22/2020', size=30)\n",
        "    plt.ylabel('# of Cases', size=30)\n",
        "    plt.legend(['Confirmed Cases', algo_name], prop={'size': 20})\n",
        "    plt.xticks(size=20)\n",
        "    plt.yticks(size=20)\n",
        "    plt.show()"
      ],
      "execution_count": null,
      "outputs": []
    },
    {
      "cell_type": "markdown",
      "metadata": {
        "id": "ptXsYSQHuSuj"
      },
      "source": [
        "# Predictions for confirmed coronavirus cases worldwide\n",
        "<a id='prediction'></a>"
      ]
    },
    {
      "cell_type": "code",
      "metadata": {
        "_kg_hide-input": true,
        "_kg_hide-output": false,
        "id": "LDtdpcaquSuj"
      },
      "source": [
        "plot_predictions(adjusted_dates, world_cases, svm_pred, 'SVM Predictions', 'purple')"
      ],
      "execution_count": null,
      "outputs": []
    },
    {
      "cell_type": "code",
      "metadata": {
        "_kg_hide-input": true,
        "id": "Lkq_xDvSuSuk"
      },
      "source": [
        "plot_predictions(adjusted_dates, world_cases, linear_pred, 'Polynomial Regression Predictions', 'orange')"
      ],
      "execution_count": null,
      "outputs": []
    },
    {
      "cell_type": "code",
      "metadata": {
        "_kg_hide-input": true,
        "_kg_hide-output": false,
        "id": "2KkX8ru2uSuk"
      },
      "source": [
        "plot_predictions(adjusted_dates, world_cases, bayesian_pred, 'Bayesian Ridge Regression Predictions', 'green')"
      ],
      "execution_count": null,
      "outputs": []
    },
    {
      "cell_type": "code",
      "metadata": {
        "_kg_hide-input": true,
        "id": "ZC9huWQfuSuk"
      },
      "source": [
        "# Future predictions using SVM \n",
        "svm_df = pd.DataFrame({'Date': future_forcast_dates[-10:], 'SVM Predicted # of Confirmed Cases Worldwide': np.round(svm_pred[-10:])})\n",
        "svm_df.style.background_gradient(cmap='Reds')"
      ],
      "execution_count": null,
      "outputs": []
    },
    {
      "cell_type": "code",
      "metadata": {
        "_kg_hide-input": true,
        "id": "zn8qbyVNuSuk"
      },
      "source": [
        "# Future predictions using polynomial regression\n",
        "linear_pred = linear_pred.reshape(1,-1)[0]\n",
        "linear_df = pd.DataFrame({'Date': future_forcast_dates[-10:], 'Polynomial Predicted # of Confirmed Cases Worldwide': np.round(linear_pred[-10:])})\n",
        "linear_df.style.background_gradient(cmap='Reds')"
      ],
      "execution_count": null,
      "outputs": []
    },
    {
      "cell_type": "code",
      "metadata": {
        "_kg_hide-input": true,
        "_kg_hide-output": false,
        "id": "hxSclOw7uSuk"
      },
      "source": [
        "# Future predictions using Bayesian Ridge \n",
        "bayesian_df = pd.DataFrame({'Date': future_forcast_dates[-10:], 'Bayesian Ridge Predicted # of Confirmed Cases Worldwide': np.round(bayesian_pred[-10:])})\n",
        "bayesian_df.style.background_gradient(cmap='Reds')"
      ],
      "execution_count": null,
      "outputs": []
    },
    {
      "cell_type": "markdown",
      "metadata": {
        "id": "xcxsh3ZMuSul"
      },
      "source": [
        "Mortality Rate (worldwide) **susceptible to change **"
      ]
    },
    {
      "cell_type": "code",
      "metadata": {
        "_kg_hide-input": true,
        "id": "jLfcYdvXuSul"
      },
      "source": [
        "mean_mortality_rate = np.mean(mortality_rate)\n",
        "plt.figure(figsize=(16, 10))\n",
        "plt.plot(adjusted_dates, mortality_rate, color='orange')\n",
        "plt.axhline(y = mean_mortality_rate,linestyle='--', color='black')\n",
        "plt.title('Worldwide Mortality Rate of Coronavirus Over Time', size=30)\n",
        "plt.xlabel('Days Since 1/22/2020', size=30)\n",
        "plt.ylabel('Case Mortality Rate', size=30)\n",
        "plt.xticks(size=20)\n",
        "plt.yticks(size=20)\n",
        "plt.show()"
      ],
      "execution_count": null,
      "outputs": []
    },
    {
      "cell_type": "markdown",
      "metadata": {
        "id": "Dsr7HcPvuSul"
      },
      "source": [
        "Recovery Rate (worldwide) **suceptible to change **"
      ]
    },
    {
      "cell_type": "code",
      "metadata": {
        "_kg_hide-input": true,
        "id": "accM_5wLuSum"
      },
      "source": [
        "mean_recovery_rate = np.mean(recovery_rate)\n",
        "plt.figure(figsize=(16, 10))\n",
        "plt.plot(adjusted_dates, recovery_rate, color='blue')\n",
        "plt.title('Worldwide Recovery Rate of Coronavirus Over Time', size=30)\n",
        "plt.xlabel('Days Since 1/22/2020', size=30)\n",
        "plt.ylabel('Case Recovery Rate', size=30)\n",
        "plt.xticks(size=20)\n",
        "plt.yticks(size=20)\n",
        "plt.show()"
      ],
      "execution_count": null,
      "outputs": []
    },
    {
      "cell_type": "markdown",
      "metadata": {
        "id": "VrcCWLmJuSum"
      },
      "source": [
        "Graphing deaths against recoveries"
      ]
    },
    {
      "cell_type": "code",
      "metadata": {
        "_kg_hide-input": true,
        "id": "ghAq47FwuSum"
      },
      "source": [
        "plt.figure(figsize=(16, 10))\n",
        "plt.plot(adjusted_dates, total_deaths, color='r')\n",
        "plt.plot(adjusted_dates, total_recovered, color='green')\n",
        "plt.legend(['death', 'recoveries'], loc='best', fontsize=25)\n",
        "plt.title('Worldwide Coronavirus Cases', size=30)\n",
        "plt.xlabel('Days Since 1/22/2020', size=30)\n",
        "plt.ylabel('# of Cases', size=30)\n",
        "plt.xticks(size=20)\n",
        "plt.yticks(size=20)\n",
        "plt.show()"
      ],
      "execution_count": null,
      "outputs": []
    },
    {
      "cell_type": "markdown",
      "metadata": {
        "id": "SuaJ03pHuSun"
      },
      "source": [
        "Plotting the number of deaths against the number of recoveries"
      ]
    },
    {
      "cell_type": "code",
      "metadata": {
        "_kg_hide-input": true,
        "id": "YXKgdXjluSun"
      },
      "source": [
        "plt.figure(figsize=(16, 10))\n",
        "plt.plot(total_recovered, total_deaths)\n",
        "plt.title('# of Coronavirus Deaths vs. # of Coronavirus Recoveries', size=30)\n",
        "plt.xlabel('# of Coronavirus Recoveries', size=30)\n",
        "plt.ylabel('# of Coronavirus Deaths', size=30)\n",
        "plt.xticks(size=20)\n",
        "plt.yticks(size=20)\n",
        "plt.show()"
      ],
      "execution_count": null,
      "outputs": []
    },
    {
      "cell_type": "markdown",
      "metadata": {
        "id": "UTXhU2BzuSun"
      },
      "source": [
        "Getting information about **countries/regions** that have confirmed coronavirus cases"
      ]
    },
    {
      "cell_type": "code",
      "metadata": {
        "_kg_hide-input": true,
        "_kg_hide-output": true,
        "id": "M9xthn9VuSun"
      },
      "source": [
        "unique_countries =  list(latest_data['Country_Region'].unique())"
      ],
      "execution_count": null,
      "outputs": []
    },
    {
      "cell_type": "code",
      "metadata": {
        "_kg_hide-input": true,
        "id": "f44GBdqquSuo"
      },
      "source": [
        "country_confirmed_cases = []\n",
        "country_death_cases = [] \n",
        "country_active_cases = []\n",
        "country_recovery_cases = []\n",
        "country_incidence_rate = [] \n",
        "country_mortality_rate = [] \n",
        "\n",
        "no_cases = []\n",
        "for i in unique_countries:\n",
        "    cases = latest_data[latest_data['Country_Region']==i]['Confirmed'].sum()\n",
        "    if cases > 0:\n",
        "        country_confirmed_cases.append(cases)\n",
        "    else:\n",
        "        no_cases.append(i)\n",
        "        \n",
        "for i in no_cases:\n",
        "    unique_countries.remove(i)\n",
        "    \n",
        "# sort countries by the number of confirmed cases\n",
        "unique_countries = [k for k, v in sorted(zip(unique_countries, country_confirmed_cases), key=operator.itemgetter(1), reverse=True)]\n",
        "for i in range(len(unique_countries)):\n",
        "    country_confirmed_cases[i] = latest_data[latest_data['Country_Region']==unique_countries[i]]['Confirmed'].sum()\n",
        "    country_death_cases.append(latest_data[latest_data['Country_Region']==unique_countries[i]]['Deaths'].sum())\n",
        "    country_recovery_cases.append(latest_data[latest_data['Country_Region']==unique_countries[i]]['Recovered'].sum())\n",
        "    country_active_cases.append(latest_data[latest_data['Country_Region']==unique_countries[i]]['Active'].sum())\n",
        "    country_incidence_rate.append(latest_data[latest_data['Country_Region']==unique_countries[i]]['Incidence_Rate'].sum())\n",
        "    country_mortality_rate.append(country_death_cases[i]/country_confirmed_cases[i])"
      ],
      "execution_count": null,
      "outputs": []
    },
    {
      "cell_type": "markdown",
      "metadata": {
        "id": "CgFIbrUNuSuo"
      },
      "source": [
        "# Data table\n",
        "<a id='data_table'></a>"
      ]
    },
    {
      "cell_type": "code",
      "metadata": {
        "_kg_hide-input": true,
        "_kg_hide-output": false,
        "id": "dpnIfdoPuSuo"
      },
      "source": [
        "country_df = pd.DataFrame({'Country Name': unique_countries, 'Number of Confirmed Cases': country_confirmed_cases,\n",
        "                          'Number of Deaths': country_death_cases, 'Number of Recoveries' : country_recovery_cases, \n",
        "                          'Number of Active Cases' : country_active_cases, 'Incidence Rate' : country_incidence_rate,\n",
        "                          'Mortality Rate': country_mortality_rate})\n",
        "# number of cases per country/region\n",
        "\n",
        "country_df.style.background_gradient(cmap='Oranges')"
      ],
      "execution_count": null,
      "outputs": []
    },
    {
      "cell_type": "code",
      "metadata": {
        "_kg_hide-input": true,
        "id": "ufZThWAIuSup"
      },
      "source": [
        "unique_provinces =  list(latest_data['Province_State'].unique())"
      ],
      "execution_count": null,
      "outputs": []
    },
    {
      "cell_type": "markdown",
      "metadata": {
        "id": "DO59Md8muSup"
      },
      "source": [
        "Getting the latest information about **provinces/states** that have confirmed coronavirus cases"
      ]
    },
    {
      "cell_type": "code",
      "metadata": {
        "_kg_hide-input": true,
        "id": "H8O2bwZSuSup"
      },
      "source": [
        "province_confirmed_cases = []\n",
        "province_country = [] \n",
        "province_death_cases = [] \n",
        "# province_recovery_cases = []\n",
        "province_active = [] \n",
        "province_incidence_rate = []\n",
        "province_mortality_rate = [] \n",
        "\n",
        "no_cases = [] \n",
        "for i in unique_provinces:\n",
        "    cases = latest_data[latest_data['Province_State']==i]['Confirmed'].sum()\n",
        "    if cases > 0:\n",
        "        province_confirmed_cases.append(cases)\n",
        "    else:\n",
        "        no_cases.append(i)\n",
        " \n",
        "# remove areas with no confirmed cases\n",
        "for i in no_cases:\n",
        "    unique_provinces.remove(i)\n",
        "    \n",
        "unique_provinces = [k for k, v in sorted(zip(unique_provinces, province_confirmed_cases), key=operator.itemgetter(1), reverse=True)]\n",
        "for i in range(len(unique_provinces)):\n",
        "    province_confirmed_cases[i] = latest_data[latest_data['Province_State']==unique_provinces[i]]['Confirmed'].sum()\n",
        "    province_country.append(latest_data[latest_data['Province_State']==unique_provinces[i]]['Country_Region'].unique()[0])\n",
        "    province_death_cases.append(latest_data[latest_data['Province_State']==unique_provinces[i]]['Deaths'].sum())\n",
        "#     province_recovery_cases.append(latest_data[latest_data['Province_State']==unique_provinces[i]]['Recovered'].sum())\n",
        "    province_active.append(latest_data[latest_data['Province_State']==unique_provinces[i]]['Active'].sum())\n",
        "    province_incidence_rate.append(latest_data[latest_data['Province_State']==unique_provinces[i]]['Incidence_Rate'].sum())\n",
        "    province_mortality_rate.append(province_death_cases[i]/province_confirmed_cases[i])"
      ],
      "execution_count": null,
      "outputs": []
    },
    {
      "cell_type": "code",
      "metadata": {
        "_kg_hide-input": true,
        "id": "TL5cWIlJuSup"
      },
      "source": [
        "# nan_indices = [] \n",
        "\n",
        "# # handle nan if there is any, it is usually a float: float('nan')\n",
        "\n",
        "# for i in range(len(unique_provinces)):\n",
        "#     if type(unique_provinces[i]) == float:\n",
        "#         nan_indices.append(i)\n",
        "\n",
        "# unique_provinces = list(unique_provinces)\n",
        "# province_confirmed_cases = list(province_confirmed_cases)\n",
        "\n",
        "# for i in nan_indices:\n",
        "#     unique_provinces.pop(i)\n",
        "#     province_confirmed_cases.pop(i)"
      ],
      "execution_count": null,
      "outputs": []
    },
    {
      "cell_type": "code",
      "metadata": {
        "_kg_hide-input": true,
        "id": "6HFu_wnIuSuq"
      },
      "source": [
        "# number of cases per province/state/city top 100 \n",
        "province_limit = 100 \n",
        "province_df = pd.DataFrame({'Province/State Name': unique_provinces[:province_limit], 'Country': province_country[:province_limit], 'Number of Confirmed Cases': province_confirmed_cases[:province_limit],\n",
        "                          'Number of Deaths': province_death_cases[:province_limit],'Number of Active Cases' : province_active[:province_limit], \n",
        "                            'Incidence Rate' : province_incidence_rate[:province_limit], 'Mortality Rate': province_mortality_rate[:province_limit]})\n",
        "# number of cases per country/region\n",
        "\n",
        "province_df.style.background_gradient(cmap='Oranges')"
      ],
      "execution_count": null,
      "outputs": []
    },
    {
      "cell_type": "code",
      "metadata": {
        "_kg_hide-input": true,
        "id": "EZHaOuvSuSu0"
      },
      "source": [
        "# return the data table with province/state info for a given country\n",
        "def country_table(country_name):\n",
        "    states = list(latest_data[latest_data['Country_Region']==country_name]['Province_State'].unique())\n",
        "    state_confirmed_cases = []\n",
        "    state_death_cases = [] \n",
        "    # state_recovery_cases = []\n",
        "    state_active = [] \n",
        "    state_incidence_rate = [] \n",
        "    state_mortality_rate = [] \n",
        "\n",
        "    no_cases = [] \n",
        "    for i in states:\n",
        "        cases = latest_data[latest_data['Province_State']==i]['Confirmed'].sum()\n",
        "        if cases > 0:\n",
        "            state_confirmed_cases.append(cases)\n",
        "        else:\n",
        "            no_cases.append(i)\n",
        "\n",
        "    # remove areas with no confirmed cases\n",
        "    for i in no_cases:\n",
        "        states.remove(i)\n",
        "\n",
        "    states = [k for k, v in sorted(zip(states, state_confirmed_cases), key=operator.itemgetter(1), reverse=True)]\n",
        "    for i in range(len(states)):\n",
        "        state_confirmed_cases[i] = latest_data[latest_data['Province_State']==states[i]]['Confirmed'].sum()\n",
        "        state_death_cases.append(latest_data[latest_data['Province_State']==states[i]]['Deaths'].sum())\n",
        "    #     state_recovery_cases.append(latest_data[latest_data['Province_State']==states[i]]['Recovered'].sum())\n",
        "        state_active.append(latest_data[latest_data['Province_State']==states[i]]['Active'].sum())\n",
        "        state_incidence_rate.append(latest_data[latest_data['Province_State']==states[i]]['Incidence_Rate'].sum())\n",
        "        state_mortality_rate.append(state_death_cases[i]/state_confirmed_cases[i])\n",
        "        \n",
        "      \n",
        "    state_df = pd.DataFrame({'State Name': states, 'Number of Confirmed Cases': state_confirmed_cases,\n",
        "                              'Number of Deaths': state_death_cases, 'Number of Active Cases' : state_active, \n",
        "                             'Incidence Rate' : state_incidence_rate, 'Mortality Rate': state_mortality_rate})\n",
        "    # number of cases per country/region\n",
        "    return state_df"
      ],
      "execution_count": null,
      "outputs": []
    },
    {
      "cell_type": "markdown",
      "metadata": {
        "id": "L1R-5Z6CuSu1"
      },
      "source": [
        "Data table for the **United States**"
      ]
    },
    {
      "cell_type": "code",
      "metadata": {
        "_kg_hide-input": true,
        "id": "VohJ-ZcxuSu2"
      },
      "source": [
        "us_table = country_table('US')\n",
        "us_table.style.background_gradient(cmap='Oranges')"
      ],
      "execution_count": null,
      "outputs": []
    },
    {
      "cell_type": "markdown",
      "metadata": {
        "id": "el_K2oYxuSu2"
      },
      "source": [
        "Data table for **Brazil**"
      ]
    },
    {
      "cell_type": "code",
      "metadata": {
        "_kg_hide-input": true,
        "id": "8O1OwOYxuSu3"
      },
      "source": [
        "brazil_table = country_table('Brazil')\n",
        "brazil_table.style.background_gradient(cmap='Oranges')"
      ],
      "execution_count": null,
      "outputs": []
    },
    {
      "cell_type": "markdown",
      "metadata": {
        "id": "tjFn4Y84uSu3"
      },
      "source": [
        "Data table for **India**"
      ]
    },
    {
      "cell_type": "code",
      "metadata": {
        "_kg_hide-input": true,
        "id": "JzIbUcXNuSu4"
      },
      "source": [
        "india_table = country_table('India')\n",
        "india_table.style.background_gradient(cmap='Oranges')"
      ],
      "execution_count": null,
      "outputs": []
    },
    {
      "cell_type": "markdown",
      "metadata": {
        "id": "7WcEtRu6uSu4"
      },
      "source": [
        "Data table for **Russia**"
      ]
    },
    {
      "cell_type": "code",
      "metadata": {
        "_kg_hide-input": true,
        "id": "_kpAZE0QuSu4"
      },
      "source": [
        "russia_table = country_table('Russia')\n",
        "russia_table.style.background_gradient(cmap='Oranges')"
      ],
      "execution_count": null,
      "outputs": []
    },
    {
      "cell_type": "markdown",
      "metadata": {
        "id": "rR4g6fqpuSu4"
      },
      "source": [
        "<a id='bar_charts'></a>\n",
        "# Bar Chart Visualizations for COVID-19"
      ]
    },
    {
      "cell_type": "code",
      "metadata": {
        "_kg_hide-input": true,
        "id": "9j-YHURnuSu4"
      },
      "source": [
        "total_world_cases = np.sum(country_confirmed_cases)\n",
        "us_confirmed = latest_data[latest_data['Country_Region']=='US']['Confirmed'].sum()\n",
        "outside_us_confirmed = total_world_cases - us_confirmed\n",
        "\n",
        "plt.figure(figsize=(16, 9))\n",
        "plt.barh('United States', us_confirmed)\n",
        "plt.barh('Outside United States', outside_us_confirmed)\n",
        "plt.title('# of Total Coronavirus Confirmed Cases', size=20)\n",
        "plt.xticks(size=20)\n",
        "plt.yticks(size=20)\n",
        "plt.show()\n",
        "\n",
        "\n",
        "plt.figure(figsize=(16, 9))\n",
        "plt.barh('United States', us_confirmed/total_world_cases)\n",
        "plt.barh('Outside United States', outside_us_confirmed/total_world_cases)\n",
        "plt.title('# of Coronavirus Confirmed Cases Expressed in Percentage', size=20)\n",
        "plt.xticks(size=20)\n",
        "plt.yticks(size=20)\n",
        "plt.show()"
      ],
      "execution_count": null,
      "outputs": []
    },
    {
      "cell_type": "code",
      "metadata": {
        "_kg_hide-input": true,
        "id": "kPQge0B3uSu5"
      },
      "source": [
        "print('Outside United States {} cases:'.format(outside_us_confirmed))\n",
        "print('United States {} cases'.format(us_confirmed))\n",
        "print('Total: {} cases'.format(us_confirmed+outside_us_confirmed))"
      ],
      "execution_count": null,
      "outputs": []
    },
    {
      "cell_type": "code",
      "metadata": {
        "_kg_hide-input": true,
        "_kg_hide-output": true,
        "id": "-MoKFW73uSu5"
      },
      "source": [
        "# Only show 15 countries with the most confirmed cases, the rest are grouped into the other category\n",
        "visual_unique_countries = [] \n",
        "visual_confirmed_cases = []\n",
        "others = np.sum(country_confirmed_cases[10:])\n",
        "\n",
        "for i in range(len(country_confirmed_cases[:10])):\n",
        "    visual_unique_countries.append(unique_countries[i])\n",
        "    visual_confirmed_cases.append(country_confirmed_cases[i])\n",
        "    \n",
        "visual_unique_countries.append('Others')\n",
        "visual_confirmed_cases.append(others)"
      ],
      "execution_count": null,
      "outputs": []
    },
    {
      "cell_type": "markdown",
      "metadata": {
        "id": "ti7TryptuSu5"
      },
      "source": [
        "***Visual Representations*** (bar charts and pie charts)"
      ]
    },
    {
      "cell_type": "code",
      "metadata": {
        "_kg_hide-input": true,
        "_kg_hide-output": true,
        "id": "r62bu6pMuSu5"
      },
      "source": [
        "def plot_bar_graphs(x, y, title):\n",
        "    plt.figure(figsize=(16, 12))\n",
        "    plt.barh(x, y)\n",
        "    plt.title(title, size=20)\n",
        "    plt.xticks(size=20)\n",
        "    plt.yticks(size=20)\n",
        "    plt.show()\n",
        "    \n",
        "# good for a lot x values \n",
        "def plot_bar_graphs_tall(x, y, title):\n",
        "    plt.figure(figsize=(19, 18))\n",
        "    plt.barh(x, y)\n",
        "    plt.title(title, size=25)\n",
        "    plt.xticks(size=25)\n",
        "    plt.yticks(size=25)\n",
        "    plt.show()"
      ],
      "execution_count": null,
      "outputs": []
    },
    {
      "cell_type": "code",
      "metadata": {
        "_kg_hide-input": true,
        "id": "GLmTWkjfuSu5"
      },
      "source": [
        "plot_bar_graphs(visual_unique_countries, visual_confirmed_cases, '# of Covid-19 Confirmed Cases in Countries/Regions')"
      ],
      "execution_count": null,
      "outputs": []
    },
    {
      "cell_type": "code",
      "metadata": {
        "_kg_hide-input": true,
        "_kg_hide-output": false,
        "id": "Zf_EmM-muSu5"
      },
      "source": [
        "log_country_confirmed_cases = [math.log10(i) for i in visual_confirmed_cases]\n",
        "plot_bar_graphs(visual_unique_countries, log_country_confirmed_cases, 'Common Log # of Coronavirus Confirmed Cases in Countries/Regions')"
      ],
      "execution_count": null,
      "outputs": []
    },
    {
      "cell_type": "code",
      "metadata": {
        "_kg_hide-input": true,
        "_kg_hide-output": true,
        "id": "fpx5-vv6uSu6"
      },
      "source": [
        "# Only show 10 provinces with the most confirmed cases, the rest are grouped into the other category\n",
        "visual_unique_provinces = [] \n",
        "visual_confirmed_cases2 = []\n",
        "others = np.sum(province_confirmed_cases[10:])\n",
        "for i in range(len(province_confirmed_cases[:10])):\n",
        "    visual_unique_provinces.append(unique_provinces[i])\n",
        "    visual_confirmed_cases2.append(province_confirmed_cases[i])\n",
        "\n",
        "visual_unique_provinces.append('Others')\n",
        "visual_confirmed_cases2.append(others)"
      ],
      "execution_count": null,
      "outputs": []
    },
    {
      "cell_type": "code",
      "metadata": {
        "_kg_hide-input": true,
        "id": "eMDumSnfuSu6"
      },
      "source": [
        "plot_bar_graphs(visual_unique_provinces, visual_confirmed_cases2, '# of Coronavirus Confirmed Cases in Provinces/States')"
      ],
      "execution_count": null,
      "outputs": []
    },
    {
      "cell_type": "code",
      "metadata": {
        "_kg_hide-input": true,
        "_kg_hide-output": false,
        "id": "aL6MnxGPuSu6"
      },
      "source": [
        "log_province_confirmed_cases = [math.log10(i) for i in visual_confirmed_cases2]\n",
        "plot_bar_graphs(visual_unique_provinces, log_province_confirmed_cases, 'Log of # of Coronavirus Confirmed Cases in Provinces/States')"
      ],
      "execution_count": null,
      "outputs": []
    },
    {
      "cell_type": "markdown",
      "metadata": {
        "id": "ZT96VFYDuSu6"
      },
      "source": [
        "<a id='pie_charts'></a>\n",
        "# Pie Chart Visualizations for COVID-19"
      ]
    },
    {
      "cell_type": "code",
      "metadata": {
        "_kg_hide-input": true,
        "_kg_hide-output": true,
        "id": "Pf-SLWrtuSu6"
      },
      "source": [
        "def plot_pie_charts(x, y, title):\n",
        "    # more muted color \n",
        "    c = ['lightcoral', 'rosybrown', 'sandybrown', 'navajowhite', 'gold',\n",
        "        'khaki', 'lightskyblue', 'turquoise', 'lightslategrey', 'thistle', 'pink']\n",
        "    plt.figure(figsize=(20,15))\n",
        "    plt.title(title, size=20)\n",
        "    plt.pie(y, colors=c,shadow=True, labels=y)\n",
        "    plt.legend(x, loc='best', fontsize=12)\n",
        "    plt.show()"
      ],
      "execution_count": null,
      "outputs": []
    },
    {
      "cell_type": "code",
      "metadata": {
        "_kg_hide-input": true,
        "id": "cXd5N-QiuSu6"
      },
      "source": [
        "plot_pie_charts(visual_unique_countries, visual_confirmed_cases, 'Covid-19 Confirmed Cases per Country')"
      ],
      "execution_count": null,
      "outputs": []
    },
    {
      "cell_type": "code",
      "metadata": {
        "_kg_hide-input": true,
        "id": "ycxihI5suSu6"
      },
      "source": [
        "plot_pie_charts(visual_unique_provinces, visual_confirmed_cases2, 'Covid-19 Confirmed Cases per State/Province/Region')"
      ],
      "execution_count": null,
      "outputs": []
    },
    {
      "cell_type": "code",
      "metadata": {
        "_kg_hide-input": true,
        "_kg_hide-output": true,
        "id": "HX4OwtAquSu7"
      },
      "source": [
        "# Plotting countries with regional data using a pie chart \n",
        "\n",
        "def plot_pie_country_with_regions(country_name, title):\n",
        "    regions = list(latest_data[latest_data['Country_Region']==country_name]['Province_State'].unique())\n",
        "    confirmed_cases = []\n",
        "    no_cases = [] \n",
        "    for i in regions:\n",
        "        cases = latest_data[latest_data['Province_State']==i]['Confirmed'].sum()\n",
        "        if cases > 0:\n",
        "            confirmed_cases.append(cases)\n",
        "        else:\n",
        "            no_cases.append(i)\n",
        "\n",
        "    # remove areas with no confirmed cases\n",
        "    for i in no_cases:\n",
        "        regions.remove(i)\n",
        "\n",
        "    # only show the top 5 states\n",
        "    regions = [k for k, v in sorted(zip(regions, confirmed_cases), key=operator.itemgetter(1), reverse=True)]\n",
        "\n",
        "    for i in range(len(regions)):\n",
        "        confirmed_cases[i] = latest_data[latest_data['Province_State']==regions[i]]['Confirmed'].sum()  \n",
        "    \n",
        "    # additional province/state will be considered \"others\"\n",
        "    \n",
        "    if(len(regions)>5):\n",
        "        regions_5 = regions[:5]\n",
        "        regions_5.append('Others')\n",
        "        confirmed_cases_5 = confirmed_cases[:5]\n",
        "        confirmed_cases_5.append(np.sum(confirmed_cases[5:]))\n",
        "        plot_pie_charts(regions_5,confirmed_cases_5, title)\n",
        "    else:\n",
        "        plot_pie_charts(regions,confirmed_cases, title)"
      ],
      "execution_count": null,
      "outputs": []
    },
    {
      "cell_type": "code",
      "metadata": {
        "_kg_hide-input": true,
        "id": "9CmYM_wuuSu7"
      },
      "source": [
        "pie_chart_countries = ['US', 'Brazil', 'Russia', 'India', 'Peru', 'Mexico', 'Canada', \n",
        "                       'Australia', 'China', 'Italy', 'Germany', 'France', 'United Kingdom', 'Chile', 'Colombia']\n",
        "\n",
        "for i in pie_chart_countries:\n",
        "    plot_pie_country_with_regions(i, 'Covid-19 Confirmed Cases in {}'.format(i))"
      ],
      "execution_count": null,
      "outputs": []
    },
    {
      "cell_type": "markdown",
      "metadata": {
        "id": "_7jEjHXCuSu7"
      },
      "source": [
        "<a id='hospital_testing'></a>\n",
        "# US Medical Data on Testing "
      ]
    },
    {
      "cell_type": "code",
      "metadata": {
        "_kg_hide-input": true,
        "id": "CkYeTEa-uSu7"
      },
      "source": [
        "# Replace nan with 0\n",
        "us_medical_data.fillna(value=0, inplace=True)\n",
        "\n",
        "def plot_us_medical_data():\n",
        "    states = us_medical_data['Province_State'].unique()\n",
        "    testing_number = []\n",
        "    testing_rate = []\n",
        "    \n",
        "    for i in states:\n",
        "        testing_number.append(us_medical_data[us_medical_data['Province_State']==i]['People_Tested'].sum())\n",
        "        testing_rate.append(us_medical_data[us_medical_data['Province_State']==i]['Testing_Rate'].max())\n",
        "    \n",
        "    # only show the top 15 states\n",
        "    testing_states = [k for k, v in sorted(zip(states, testing_number), key=operator.itemgetter(1), reverse=True)]\n",
        "    testing_rate_states = [k for k, v in sorted(zip(states, testing_rate), key=operator.itemgetter(1), reverse=True)]\n",
        "  \n",
        "    for i in range(len(states)):\n",
        "        testing_number[i] = us_medical_data[us_medical_data['Province_State']==testing_states[i]]['People_Tested'].sum()\n",
        "        testing_rate[i] = us_medical_data[us_medical_data['Province_State']==testing_rate_states[i]]['Testing_Rate'].sum()\n",
        "    \n",
        "    top_limit = 30 \n",
        "    \n",
        "    plot_bar_graphs_tall(testing_states[:top_limit], testing_number[:top_limit], 'Total Testing per State (Top 30)')\n",
        "    plot_bar_graphs_tall(testing_rate_states[:top_limit], testing_rate[:top_limit], 'Testing Rate per 100,000 People (Top 30)')\n",
        " \n",
        "\n",
        "plot_us_medical_data()"
      ],
      "execution_count": null,
      "outputs": []
    },
    {
      "cell_type": "markdown",
      "metadata": {
        "id": "HdpmDnWLuSu7"
      },
      "source": [
        "<a id='mobility_data'></a>\n",
        "# Taking a look at Apple's mobility data. It can help us understand hotspot states in the US (states and territories). "
      ]
    },
    {
      "cell_type": "code",
      "metadata": {
        "_kg_hide-input": true,
        "id": "3UXUgjsFuSu7"
      },
      "source": [
        "def get_mobility_by_state(transport_type, state, day):\n",
        "    return apple_mobility[apple_mobility['sub-region']==state][apple_mobility['transportation_type']==transport_type].sum()[day]"
      ],
      "execution_count": null,
      "outputs": []
    },
    {
      "cell_type": "code",
      "metadata": {
        "_kg_hide-input": true,
        "_kg_hide-output": true,
        "id": "rKTHmvVcuSu8"
      },
      "source": [
        "apple_mobility.head()"
      ],
      "execution_count": null,
      "outputs": []
    },
    {
      "cell_type": "code",
      "metadata": {
        "_kg_hide-input": true,
        "_kg_hide-output": true,
        "id": "zQsGQVRJuSu8"
      },
      "source": [
        "# sample testing \n",
        "get_mobility_by_state('walking', 'Connecticut', '2020-07-30')"
      ],
      "execution_count": null,
      "outputs": []
    },
    {
      "cell_type": "code",
      "metadata": {
        "_kg_hide-input": true,
        "id": "uCIni7IYuSu8"
      },
      "source": [
        "# revising date to fit with the mobility format \n",
        "revised_dates = []\n",
        "for i in range(len(dates)):\n",
        "    revised_dates.append(datetime.datetime.strptime(dates[i], '%m/%d/%y').strftime('%Y-%m-%d'))"
      ],
      "execution_count": null,
      "outputs": []
    },
    {
      "cell_type": "code",
      "metadata": {
        "_kg_hide-input": true,
        "id": "X32-TaSquSu8"
      },
      "source": [
        "# returns true if it is a weekend, and false if it is a weekday \n",
        "def weekday_or_weekend(date):\n",
        "    date_obj = datetime.datetime.strptime(date, '%Y-%m-%d')\n",
        "    day_of_the_week =  date_obj.weekday()\n",
        "    if (day_of_the_week+1) % 6 == 0 or (day_of_the_week+1) % 7 == 0:\n",
        "        return True \n",
        "    else:\n",
        "        return False "
      ],
      "execution_count": null,
      "outputs": []
    },
    {
      "cell_type": "code",
      "metadata": {
        "_kg_hide-input": true,
        "_kg_hide-output": true,
        "id": "3BBF0vpyuSu8"
      },
      "source": [
        "revised_day_since_1_22 = [i for i in range(len(revised_dates))]"
      ],
      "execution_count": null,
      "outputs": []
    },
    {
      "cell_type": "code",
      "metadata": {
        "_kg_hide-input": true,
        "id": "DZJ2bTtAuSu8"
      },
      "source": [
        "import matplotlib.dates as mdates\n",
        "states = ['New York', 'Connecticut', 'Florida', 'California', 'Texas', 'Georgia', 'Arizona', 'Illinois', 'Louisiana', 'Ohio',\n",
        "          'Tennessee', 'North Carolina', 'South Carolina', 'Alabama', 'Missouri', 'Kansas', 'Pennsylvania', 'Wisconsin', 'Virginia', 'Massachusetts', 'Utah', 'Minnesota',\n",
        "         'Oklahoma', 'Iowa', 'Arkansas', 'Kentucky', 'Puerto Rico', 'Colorado', 'New Jersey', 'Idaho', 'New Jersey', 'Nevada', 'Maryland']\n",
        "states.sort()\n",
        "\n",
        "# making sure the dates are in sync \n",
        "mobility_latest_date = apple_mobility.columns[-1]\n",
        "mobility_latest_index = revised_dates.index(mobility_latest_date)\n",
        "\n",
        "for state in states:\n",
        "    # weekend and weekday mobility are separated \n",
        "    weekday_mobility = []\n",
        "    weekday_mobility_dates = [] \n",
        "    weekend_mobility = [] \n",
        "    weekend_mobility_dates = [] \n",
        "    \n",
        "    for i in range(len(revised_dates)):\n",
        "        if i <= mobility_latest_index:\n",
        "            if weekday_or_weekend(revised_dates[i]):\n",
        "                weekend_mobility.append(get_mobility_by_state('walking', state, revised_dates[i]))\n",
        "                weekend_mobility_dates.append(i)\n",
        "            else:\n",
        "                weekday_mobility.append(get_mobility_by_state('walking', state, revised_dates[i]))\n",
        "                weekday_mobility_dates.append(i)\n",
        "        else:\n",
        "            pass\n",
        "        \n",
        "    # remove null values (they are counted as 0)\n",
        "    for i in range(len(weekend_mobility)):       \n",
        "        if weekend_mobility[i] == 0 and i != 0:\n",
        "            weekend_mobility[i] = weekend_mobility[i-1]\n",
        "        elif weekend_mobility[i] == 0 and i == 0:\n",
        "            weekend_mobility[i] = weekend_mobility[i+1]\n",
        "        else:\n",
        "            pass\n",
        "        \n",
        "    for i in range(len(weekday_mobility)):       \n",
        "        if weekday_mobility[i] == 0 and i != 0:\n",
        "            weekday_mobility[i] = weekday_mobility[i-1]\n",
        "        elif weekday_mobility[i] == 0 and i == 0:\n",
        "            weekday_mobility[i] = weekday_mobility[i+1]\n",
        "        else:\n",
        "            pass\n",
        "    \n",
        "    \n",
        "    weekday_mobility_average = moving_average(weekday_mobility, 7)\n",
        "    weekend_mobility_average = moving_average(weekend_mobility, 7)\n",
        "    \n",
        "    plt.figure(figsize=(16, 10))\n",
        "    plt.bar(weekday_mobility_dates, weekday_mobility, color='cornflowerblue')\n",
        "    plt.plot(weekday_mobility_dates, weekday_mobility_average, color='green')\n",
        "    \n",
        "    plt.bar(weekend_mobility_dates, weekend_mobility, color='salmon')\n",
        "    plt.plot(weekend_mobility_dates, weekend_mobility_average, color='black')\n",
        "    \n",
        "    plt.legend(['Moving average (7 days) weekday mobility', 'Moving Average (7 days) weekend mobility', 'Weekday mobility', 'Weekend mobility'], prop={'size': 25})\n",
        "    plt.title('{} Walking Mobility Data'.format(state), size=25)\n",
        "    plt.xlabel('Days since 1/22', size=25)\n",
        "    plt.ylabel('Mobility Value', size=25)\n",
        "    plt.xticks(size=25)\n",
        "    plt.yticks(size=25)\n",
        "    plt.show()"
      ],
      "execution_count": null,
      "outputs": []
    }
  ]
}